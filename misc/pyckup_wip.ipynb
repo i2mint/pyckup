{
 "cells": [
  {
   "cell_type": "code",
   "execution_count": null,
   "id": "93ef22df",
   "metadata": {},
   "outputs": [],
   "source": []
  },
  {
   "cell_type": "code",
   "execution_count": null,
   "id": "2f51833d",
   "metadata": {},
   "outputs": [],
   "source": []
  },
  {
   "cell_type": "code",
   "execution_count": 9,
   "id": "e5766386",
   "metadata": {},
   "outputs": [
    {
     "name": "stdout",
     "output_type": "stream",
     "text": [
      "('https://ourworldindata.org/grapher/life-expectancy.metadata.json', '/Users/thorwhalen/.config/pyckup/downloads/owid/life-expectancy.metadata.json')\n",
      "Acquiring OWID CSV for 'life-expectancy' -> https://ourworldindata.org/grapher/life-expectancy.csv\n",
      "✓ OWID CSV: life-expectancy.csv (600,402 bytes)\n",
      "Acquiring OWID JSON for 'life-expectancy' -> https://ourworldindata.org/grapher/life-expectancy.metadata.json\n",
      "✓ OWID JSON: life-expectancy.metadata.json (3,823 bytes)\n",
      "  • Chart title: Life expectancy\n"
     ]
    }
   ],
   "source": [
    "from pyckup.sources.owid import acquire_owid_data, slug_to_url_and_filename\n",
    "\n",
    "slug = 'life-expectancy'\n",
    "print(slug_to_url_and_filename(slug))\n",
    "json_path, csv_path = acquire_owid_data(slug)\n"
   ]
  },
  {
   "cell_type": "code",
   "execution_count": null,
   "id": "be79a632",
   "metadata": {},
   "outputs": [],
   "source": []
  },
  {
   "cell_type": "code",
   "execution_count": null,
   "id": "c9ae694a",
   "metadata": {},
   "outputs": [],
   "source": []
  }
 ],
 "metadata": {
  "kernelspec": {
   "display_name": "p10",
   "language": "python",
   "name": "python3"
  },
  "language_info": {
   "codemirror_mode": {
    "name": "ipython",
    "version": 3
   },
   "file_extension": ".py",
   "mimetype": "text/x-python",
   "name": "python",
   "nbconvert_exporter": "python",
   "pygments_lexer": "ipython3",
   "version": "3.10.13"
  }
 },
 "nbformat": 4,
 "nbformat_minor": 5
}
